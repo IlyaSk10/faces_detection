{
  "nbformat": 4,
  "nbformat_minor": 0,
  "metadata": {
    "colab": {
      "name": "faces_detection.ipynb",
      "provenance": [],
      "collapsed_sections": []
    },
    "kernelspec": {
      "name": "python3",
      "display_name": "Python 3"
    },
    "accelerator": "GPU"
  },
  "cells": [
    {
      "cell_type": "code",
      "metadata": {
        "id": "xhKxa3XNPvNe",
        "colab_type": "code",
        "colab": {}
      },
      "source": [
        "import gdown\n",
        "import os\n",
        "import numpy as np\n",
        "import matplotlib.pyplot as plt\n",
        "import tarfile\n",
        "import cv2  \n",
        "\n",
        "\n",
        "name='facesdetection'\n",
        "os.mkdir('/content/'+name)\n",
        "os.chdir('/content/'+name)\n",
        "!gdown 'https://drive.google.com/uc?id=1NiTKjPdq46YaODqKk1WL0oGMig1EtrPK'\n",
        "!tar -zxvf faces.tar.gz"
      ],
      "execution_count": 34,
      "outputs": []
    },
    {
      "cell_type": "code",
      "metadata": {
        "id": "B7got2ZYrz7r",
        "colab_type": "code",
        "colab": {}
      },
      "source": [
        "source_path_train='/content/'+name+'/'\n",
        "names=['face.test.tar.gz','face.train.tar.gz']\n",
        "\n",
        "for name in names:\n",
        "  with tarfile.open(source_path_train+name) as tar:\n",
        "    tar.extractall()"
      ],
      "execution_count": 2,
      "outputs": []
    },
    {
      "cell_type": "code",
      "metadata": {
        "id": "AHJyi0V9vzu0",
        "colab_type": "code",
        "colab": {
          "base_uri": "https://localhost:8080/",
          "height": 211
        },
        "outputId": "cf3cd06f-909e-44ea-8fc2-d26842988145"
      },
      "source": [
        "train_name='train'\n",
        "name='facesdetection'\n",
        "path='/content/'+name+'/'+train_name+'/'+'face'+'/'\n",
        "path_nonface='/content/'+name+'/'+train_name+'/'+'non-face'+'/'\n",
        "\n",
        "face_train_names=sorted(os.listdir(path))\n",
        "non_face_train_names=sorted(os.listdir(path_nonface))\n",
        "\n",
        "_, axs = plt.subplots(1, 5, figsize=(20, 20))\n",
        "axs = axs.flatten()\n",
        "\n",
        "import cv2\n",
        "for name,ax in zip(face_train_names[:5],axs):\n",
        "  ax.imshow(cv2.imread(path+name, cv2.IMREAD_GRAYSCALE), cmap='gray')\n",
        "  ax.set_title(name)\n",
        "plt.show()"
      ],
      "execution_count": 3,
      "outputs": [
        {
          "output_type": "display_data",
          "data": {
            "image/png": "[encoded data removed]",
            "text/plain": [
              "<Figure size 1440x1440 with 5 Axes>"
            ]
          },
          "metadata": {
            "tags": [],
            "needs_background": "light"
          }
        }
      ]
    },
    {
      "cell_type": "code",
      "metadata": {
        "id": "Z7LaDCwyj2oE",
        "colab_type": "code",
        "colab": {}
      },
      "source": [
        "def normalize(dataset):\n",
        "  std = np.std(dataset.reshape(dataset.shape[0], -1), axis=1)\n",
        "  mean = np.mean(dataset.reshape(dataset.shape[0], -1), axis=1)\n",
        "  for i in range(len(std)):\n",
        "    dataset[i] = (dataset[i] - mean[i]) / std[i]\n",
        "  return dataset"
      ],
      "execution_count": 4,
      "outputs": []
    },
    {
      "cell_type": "code",
      "metadata": {
        "id": "esD4DpDgrumc",
        "colab_type": "code",
        "colab": {}
      },
      "source": [
        "def standartization(names,path):\n",
        "   A=np.zeros((len(names),19,19))\n",
        "   for i,name in enumerate(names):\n",
        "     data=cv2.imread(path+name,cv2.IMREAD_GRAYSCALE)\n",
        "     A[i,:,:]=normalize(data)\n",
        "   return A"
      ],
      "execution_count": 5,
      "outputs": []
    },
    {
      "cell_type": "code",
      "metadata": {
        "id": "4PEJv7luBsiD",
        "colab_type": "code",
        "colab": {
          "base_uri": "https://localhost:8080/",
          "height": 51
        },
        "outputId": "9676a1c4-3107-4faa-e346-d8d374afd09e"
      },
      "source": [
        "path_face=path\n",
        "path_nonface='/content/facesdetection/'+train_name+'/'+'non-face'+'/'\n",
        "\n",
        "faces_stand=standartization(face_train_names,path=path_face) # с лицами\n",
        "non_faces_stand=standartization(non_face_train_names,path=path_nonface) # без лиц"
      ],
      "execution_count": 7,
      "outputs": [
        {
          "output_type": "stream",
          "text": [
            "/usr/local/lib/python3.6/dist-packages/ipykernel_launcher.py:5: RuntimeWarning: invalid value encountered in true_divide\n",
            "  \"\"\"\n"
          ],
          "name": "stderr"
        }
      ]
    },
    {
      "cell_type": "code",
      "metadata": {
        "id": "UeiYPNZ0Ewds",
        "colab_type": "code",
        "colab": {}
      },
      "source": [
        "_, axs = plt.subplots(1, 5, figsize=(20, 20))\n",
        "axs = axs.flatten()\n",
        "\n",
        "for image,ax,name in zip(faces_stand[:5],axs,face_train_names[:5]):\n",
        "  ax.imshow(image,cmap='gray') \n",
        "  ax.set_title(name)\n",
        "plt.show()"
      ],
      "execution_count": null,
      "outputs": []
    },
    {
      "cell_type": "code",
      "metadata": {
        "id": "ErMw3fvSJGTO",
        "colab_type": "code",
        "colab": {}
      },
      "source": [
        "def integral_image(faces,N):\n",
        "  B=np.zeros((N,20,20))\n",
        "  for i,image in enumerate(faces):\n",
        "    rows,cols=image.shape \n",
        "    sum = np.zeros((rows,cols),np.int32)  \n",
        "    imageIntegral = cv2.integral(image, sum,-1)  \n",
        "    B[i,:,:]= imageIntegral\n",
        "  return B"
      ],
      "execution_count": 9,
      "outputs": []
    },
    {
      "cell_type": "code",
      "metadata": {
        "id": "gEPiagTqZ1Z_",
        "colab_type": "code",
        "colab": {}
      },
      "source": [
        "integ_image=integral_image(faces_stand,N)\n",
        "non_integ_image=integral_image(non_faces_stand,N)"
      ],
      "execution_count": null,
      "outputs": []
    },
    {
      "cell_type": "code",
      "metadata": {
        "id": "yyJiZ20cenSu",
        "colab_type": "code",
        "colab": {}
      },
      "source": [
        "#_, axs = plt.subplots(1, 5, figsize=(20, 20))\n",
        "#axs = axs.flatten()\n",
        "\n",
        "#for image,ax,name in zip(integ_image[:5],axs,face_train_names[:5]):\n",
        "#  ax.imshow(image,cmap='gray') \n",
        "#  ax.set_title(name)\n",
        "#plt.show()"
      ],
      "execution_count": 11,
      "outputs": []
    },
    {
      "cell_type": "code",
      "metadata": {
        "id": "v3AEpcqMi53j",
        "colab_type": "code",
        "colab": {}
      },
      "source": [
        "#train\n",
        "os.mkdir('/content/faces_train')\n",
        "os.mkdir('/content/faces_train/face')\n",
        "#train non-face\n",
        "os.mkdir('/content/faces_train/non_face')\n",
        "\n",
        "# сохранить как .bmp\n",
        "def save_bmp(faces,path):\n",
        "  for i,image in enumerate(faces):\n",
        "    cv2.imwrite(path+'/'+'pict{}.bmp'.format(i),image)\n",
        "  print('сохранено в '+path)"
      ],
      "execution_count": 12,
      "outputs": []
    },
    {
      "cell_type": "code",
      "metadata": {
        "id": "bNH56smXOjmD",
        "colab_type": "code",
        "colab": {}
      },
      "source": [
        "\n",
        "def save_bmp_on(faces,path,path_in):\n",
        "  for i,image in enumerate(faces):\n",
        "    data=cv2.imread(path_in+image, cv2.IMREAD_GRAYSCALE)\n",
        "    cv2.imwrite(path+'/'+'pict{}.bmp'.format(i),data)\n",
        "  print('сохранено в '+path)"
      ],
      "execution_count": 13,
      "outputs": []
    },
    {
      "cell_type": "code",
      "metadata": {
        "id": "uODJakaL74n7",
        "colab_type": "code",
        "colab": {}
      },
      "source": [
        "path_in='/content/facesdetection/train/face/'\n",
        "path='/content/faces_train/face'\n",
        "faces=os.listdir(path_in)\n",
        "save_bmp_on(faces,path,path_in)\n",
        "#\n",
        "path_in='/content/facesdetection/train/non-face/'\n",
        "path='/content/faces_train/non_face'\n",
        "faces=os.listdir(path_in)\n",
        "save_bmp_on(faces,path,path_in)"
      ],
      "execution_count": null,
      "outputs": []
    },
    {
      "cell_type": "code",
      "metadata": {
        "id": "hXMbb-iVkdeT",
        "colab_type": "code",
        "colab": {}
      },
      "source": [
        "path='/content/faces_train/face'\n",
        "save_bmp(faces_stand,path)\n",
        "path='/content/faces_train/non_face'\n",
        "save_bmp(non_faces_stand,path)"
      ],
      "execution_count": null,
      "outputs": []
    },
    {
      "cell_type": "code",
      "metadata": {
        "id": "co58gUPLlG_I",
        "colab_type": "code",
        "colab": {}
      },
      "source": [
        "#_, axs = plt.subplots(1, 5, figsize=(20, 20))\n",
        "#axs = axs.flatten()\n",
        "#path='/content/faces_train/face'\n",
        "#for i,ax,name in zip(range(5),axs,face_train_names[:5]):\n",
        "#  ax.imshow(cv2.imread(path+'/'+'pict{}.bmp'.format(i))) \n",
        "#  ax.set_title(name)\n",
        "#plt.show()"
      ],
      "execution_count": 15,
      "outputs": []
    },
    {
      "cell_type": "code",
      "metadata": {
        "id": "im9qfncDPEYc",
        "colab_type": "code",
        "colab": {}
      },
      "source": [
        "attribute=' 1  0 0 14 14'\n",
        "string_face='\\n'.join(['face'+'/'+pict+attribute for pict in sorted(os.listdir('/content/faces_train/face'))])\n",
        "string_non_face='\\n'.join(['non_face'+'/'+path for path in sorted(os.listdir('/content/faces_train/non_face'))])"
      ],
      "execution_count": 16,
      "outputs": []
    },
    {
      "cell_type": "code",
      "metadata": {
        "id": "flKbbLKzQTV3",
        "colab_type": "code",
        "colab": {}
      },
      "source": [
        "with open('/content/faces_train/face.txt','w') as f:\n",
        "  f.write(string_face)\n",
        "\n",
        "f.close()\n",
        "\n",
        "with open('/content/faces_train/non_face.txt','w') as f:\n",
        "  f.write(string_non_face)\n",
        "\n",
        "f.close()"
      ],
      "execution_count": 17,
      "outputs": []
    },
    {
      "cell_type": "code",
      "metadata": {
        "id": "-K_rKtTMN4bU",
        "colab_type": "code",
        "colab": {
          "base_uri": "https://localhost:8080/",
          "height": 340
        },
        "outputId": "bb62eb92-adec-46b8-f1c3-88d2f73fe53d"
      },
      "source": [
        "%cd /content/faces_train/\n",
        "!opencv_createsamples -info /content/faces_train/face.txt -vec samples.vec -num 2400 -w 18 -h 18"
      ],
      "execution_count": 18,
      "outputs": [
        {
          "output_type": "stream",
          "text": [
            "/content/faces_train\n",
            "Info file name: /content/faces_train/face.txt\n",
            "Img file name: (NULL)\n",
            "Vec file name: samples.vec\n",
            "BG  file name: (NULL)\n",
            "Num: 2400\n",
            "BG color: 0\n",
            "BG threshold: 80\n",
            "Invert: FALSE\n",
            "Max intensity deviation: 40\n",
            "Max x angle: 1.1\n",
            "Max y angle: 1.1\n",
            "Max z angle: 0.5\n",
            "Show samples: FALSE\n",
            "Width: 18\n",
            "Height: 18\n",
            "Max Scale: -1\n",
            "Create training samples from images collection...\n",
            "Done. Created 2400 samples\n"
          ],
          "name": "stdout"
        }
      ]
    },
    {
      "cell_type": "code",
      "metadata": {
        "id": "ldtcKhdtz9Yw",
        "colab_type": "code",
        "colab": {
          "base_uri": "https://localhost:8080/",
          "height": 1000
        },
        "outputId": "bac33dd9-9180-4e4d-903f-20db75331649"
      },
      "source": [
        "!opencv_traincascade -data /content/faces_train/ -vec samples.vec -bg non_face.txt -numStages 10 -minhitrate 0.999 -maxFalseAlarmRate 0.5 -numPos 2100 -numNeg 4500 -w 18 -h 18 -maxWeakCount 10 -maxDepth 1 -mode ALL -precalcValBufSize 1024 -precalcIdxBufSize 1024"
      ],
      "execution_count": 19,
      "outputs": [
        {
          "output_type": "stream",
          "text": [
            "PARAMETERS:\n",
            "cascadeDirName: /content/faces_train/\n",
            "vecFileName: samples.vec\n",
            "bgFileName: non_face.txt\n",
            "numPos: 2100\n",
            "numNeg: 4500\n",
            "numStages: 10\n",
            "precalcValBufSize[Mb] : 1024\n",
            "precalcIdxBufSize[Mb] : 1024\n",
            "acceptanceRatioBreakValue : -1\n",
            "stageType: BOOST\n",
            "featureType: HAAR\n",
            "sampleWidth: 18\n",
            "sampleHeight: 18\n",
            "boostType: GAB\n",
            "minHitRate: 0.995\n",
            "maxFalseAlarmRate: 0.5\n",
            "weightTrimRate: 0.95\n",
            "maxDepth: 1\n",
            "maxWeakCount: 10\n",
            "mode: ALL\n",
            "Number of unique features given windowSize [18,18] : 81922\n",
            "\n",
            "===== TRAINING 0-stage =====\n",
            "<BEGIN\n",
            "POS count : consumed   2100 : 2100\n",
            "NEG count : acceptanceRatio    4500 : 1\n",
            "tcmalloc: large alloc 1073741824 bytes == 0x557e2ffa4000 @  0x7f699f4031e7 0x7f699e5fd382 0x7f699e6fc21b 0x557e2b833608 0x557e2b833d42 0x557e2b833e1a 0x557e2b83d1a9 0x557e2b829fff 0x7f699d8c0b97 0x557e2b82ac1a\n",
            "tcmalloc: large alloc 2147540992 bytes == 0x557e6ffa4000 @  0x7f699f4031e7 0x7f699e5fd382 0x7f699e61de15 0x7f699e61df21 0x557e2b8336fb 0x557e2b833d42 0x557e2b833e1a 0x557e2b83d1a9 0x557e2b829fff 0x7f699d8c0b97 0x557e2b82ac1a\n",
            "Precalculation time: 35\n",
            "+----+---------+---------+\n",
            "|  N |    HR   |    FA   |\n",
            "+----+---------+---------+\n",
            "|   1|        1|        1|\n",
            "+----+---------+---------+\n",
            "|   2|        1|        1|\n",
            "+----+---------+---------+\n",
            "|   3|        1|        1|\n",
            "+----+---------+---------+\n",
            "|   4|        1| 0.453333|\n",
            "+----+---------+---------+\n",
            "END>\n",
            "Training until now has taken 0 days 0 hours 2 minutes 46 seconds.\n",
            "\n",
            "===== TRAINING 1-stage =====\n",
            "<BEGIN\n",
            "POS count : consumed   2100 : 2100\n",
            "NEG count : acceptanceRatio    4500 : 0.446872\n",
            "tcmalloc: large alloc 2147540992 bytes == 0x557e6ffa4000 @  0x7f699f4031e7 0x7f699e5fd382 0x7f699e61de15 0x7f699e61df21 0x557e2b8336fb 0x557e2b833d42 0x557e2b833e1a 0x557e2b83d1a9 0x557e2b829fff 0x7f699d8c0b97 0x557e2b82ac1a\n",
            "Precalculation time: 35\n",
            "+----+---------+---------+\n",
            "|  N |    HR   |    FA   |\n",
            "+----+---------+---------+\n",
            "|   1|        1|        1|\n",
            "+----+---------+---------+\n",
            "|   2|        1|        1|\n",
            "+----+---------+---------+\n",
            "|   3|        1|        1|\n",
            "+----+---------+---------+\n",
            "|   4| 0.997619| 0.540444|\n",
            "+----+---------+---------+\n",
            "|   5|  0.99619| 0.413333|\n",
            "+----+---------+---------+\n",
            "END>\n",
            "Training until now has taken 0 days 0 hours 5 minutes 55 seconds.\n",
            "\n",
            "===== TRAINING 2-stage =====\n",
            "<BEGIN\n",
            "POS count : consumed   2100 : 2108\n",
            "NEG count : acceptanceRatio    4500 : 0.183046\n",
            "tcmalloc: large alloc 2147540992 bytes == 0x557e6ffa4000 @  0x7f699f4031e7 0x7f699e5fd382 0x7f699e61de15 0x7f699e61df21 0x557e2b8336fb 0x557e2b833d42 0x557e2b833e1a 0x557e2b83d1a9 0x557e2b829fff 0x7f699d8c0b97 0x557e2b82ac1a\n",
            "Precalculation time: 35\n",
            "+----+---------+---------+\n",
            "|  N |    HR   |    FA   |\n",
            "+----+---------+---------+\n",
            "|   1|        1|        1|\n",
            "+----+---------+---------+\n",
            "|   2|        1|        1|\n",
            "+----+---------+---------+\n",
            "|   3|        1|        1|\n",
            "+----+---------+---------+\n",
            "|   4|        1| 0.810889|\n",
            "+----+---------+---------+\n",
            "|   5|  0.99619| 0.424444|\n",
            "+----+---------+---------+\n",
            "END>\n",
            "Training until now has taken 0 days 0 hours 9 minutes 7 seconds.\n",
            "\n",
            "===== TRAINING 3-stage =====\n",
            "<BEGIN\n",
            "POS count : consumed   2100 : 2116\n",
            "NEG count : acceptanceRatio    4500 : 0.0830274\n",
            "tcmalloc: large alloc 2147540992 bytes == 0x557e6ffa4000 @  0x7f699f4031e7 0x7f699e5fd382 0x7f699e61de15 0x7f699e61df21 0x557e2b8336fb 0x557e2b833d42 0x557e2b833e1a 0x557e2b83d1a9 0x557e2b829fff 0x7f699d8c0b97 0x557e2b82ac1a\n",
            "Precalculation time: 34\n",
            "+----+---------+---------+\n",
            "|  N |    HR   |    FA   |\n",
            "+----+---------+---------+\n",
            "|   1|        1|        1|\n",
            "+----+---------+---------+\n",
            "|   2|        1|        1|\n",
            "+----+---------+---------+\n",
            "|   3|  0.99619| 0.706222|\n",
            "+----+---------+---------+\n",
            "|   4| 0.996667|    0.706|\n",
            "+----+---------+---------+\n",
            "|   5| 0.995714| 0.432222|\n",
            "+----+---------+---------+\n",
            "END>\n",
            "Training until now has taken 0 days 0 hours 12 minutes 28 seconds.\n",
            "\n",
            "===== TRAINING 4-stage =====\n",
            "<BEGIN\n",
            "POS count : consumed   2100 : 2125\n",
            "NEG count : acceptanceRatio    4500 : 0.044263\n",
            "tcmalloc: large alloc 2147540992 bytes == 0x557e6ffa4000 @  0x7f699f4031e7 0x7f699e5fd382 0x7f699e61de15 0x7f699e61df21 0x557e2b8336fb 0x557e2b833d42 0x557e2b833e1a 0x557e2b83d1a9 0x557e2b829fff 0x7f699d8c0b97 0x557e2b82ac1a\n",
            "Precalculation time: 32\n",
            "+----+---------+---------+\n",
            "|  N |    HR   |    FA   |\n",
            "+----+---------+---------+\n",
            "|   1|        1|        1|\n",
            "+----+---------+---------+\n",
            "|   2|        1|        1|\n",
            "+----+---------+---------+\n",
            "|   3| 0.997143| 0.715778|\n",
            "+----+---------+---------+\n",
            "|   4| 0.999524| 0.762444|\n",
            "+----+---------+---------+\n",
            "|   5| 0.998095|    0.514|\n",
            "+----+---------+---------+\n",
            "|   6| 0.995238| 0.316222|\n",
            "+----+---------+---------+\n",
            "END>\n",
            "Training until now has taken 0 days 0 hours 16 minutes 10 seconds.\n",
            "\n",
            "===== TRAINING 5-stage =====\n",
            "<BEGIN\n",
            "POS count : consumed   2100 : 2136\n",
            "NEG count : acceptanceRatio    4500 : 0.014053\n",
            "Precalculation time: 31\n",
            "+----+---------+---------+\n",
            "|  N |    HR   |    FA   |\n",
            "+----+---------+---------+\n",
            "|   1|        1|        1|\n",
            "+----+---------+---------+\n",
            "|   2|        1|        1|\n",
            "+----+---------+---------+\n",
            "|   3|  0.99619| 0.750444|\n",
            "+----+---------+---------+\n",
            "|   4| 0.998571| 0.812444|\n",
            "+----+---------+---------+\n",
            "|   5| 0.995238| 0.444444|\n",
            "+----+---------+---------+\n",
            "END>\n",
            "Training until now has taken 0 days 0 hours 19 minutes 25 seconds.\n",
            "\n",
            "===== TRAINING 6-stage =====\n",
            "<BEGIN\n",
            "POS count : consumed   2100 : 2147\n",
            "NEG count : acceptanceRatio    4500 : 0.00623213\n",
            "Precalculation time: 30\n",
            "+----+---------+---------+\n",
            "|  N |    HR   |    FA   |\n",
            "+----+---------+---------+\n",
            "|   1|        1|        1|\n",
            "+----+---------+---------+\n",
            "|   2|        1|        1|\n",
            "+----+---------+---------+\n",
            "|   3| 0.998571| 0.572667|\n",
            "+----+---------+---------+\n",
            "|   4| 0.997619| 0.362889|\n",
            "+----+---------+---------+\n",
            "END>\n",
            "Training until now has taken 0 days 0 hours 22 minutes 9 seconds.\n",
            "\n",
            "===== TRAINING 7-stage =====\n",
            "<BEGIN\n",
            "POS count : consumed   2100 : 2155\n",
            "NEG count : acceptanceRatio    4500 : 0.00260874\n",
            "Precalculation time: 29\n",
            "+----+---------+---------+\n",
            "|  N |    HR   |    FA   |\n",
            "+----+---------+---------+\n",
            "|   1|        1|        1|\n",
            "+----+---------+---------+\n",
            "|   2|        1|        1|\n",
            "+----+---------+---------+\n",
            "|   3|        1|        1|\n",
            "+----+---------+---------+\n",
            "|   4| 0.999524|    0.574|\n",
            "+----+---------+---------+\n",
            "|   5|  0.99619| 0.193556|\n",
            "+----+---------+---------+\n",
            "END>\n",
            "Training until now has taken 0 days 0 hours 25 minutes 43 seconds.\n",
            "\n",
            "===== TRAINING 8-stage =====\n",
            "<BEGIN\n",
            "POS count : consumed   2100 : 2163\n",
            "NEG count : acceptanceRatio    411 : 0.000974192\n",
            "Required leaf false alarm rate achieved. Branch training terminated.\n"
          ],
          "name": "stdout"
        }
      ]
    },
    {
      "cell_type": "code",
      "metadata": {
        "id": "pHETBerJlb3B",
        "colab_type": "code",
        "colab": {}
      },
      "source": [
        "\n",
        "url='http://i.dailymail.co.uk/i/pix/2015/11/10/23/2E503F1500000578-3312647-image-a-39_1447197228350.jpg'\n",
        "# читаем фото из интернета\n",
        "import urllib.request\n",
        "urllib.request.urlretrieve(url, '/content/1.jpg')\n",
        "img=cv2.imread('/content/1.jpg')"
      ],
      "execution_count": 20,
      "outputs": []
    },
    {
      "cell_type": "code",
      "metadata": {
        "id": "LxwfoNvAqN-C",
        "colab_type": "code",
        "colab": {}
      },
      "source": [
        "face_cascade = cv2.CascadeClassifier(r'/content/faces_train/cascade.xml')\n",
        "#face_cascade = cv2.CascadeClassifier(r'/usr/local/lib/python3.6/dist-packages/cv2/data/haarcascade_frontalface_alt.xml')\n",
        "\n",
        "gray = cv2.cvtColor(img, cv2.COLOR_BGR2GRAY)\n",
        "faces = face_cascade.detectMultiScale(gray, 1.3, 5)\n",
        "for (x,y,w,h) in faces:\n",
        "    img = cv2.rectangle(img,(x,y),(x+w,y+h),(255,0,0),2)\n",
        "    roi_gray = gray[y:y+h, x:x+w]\n",
        "    roi_color = img[y:y+h, x:x+w]"
      ],
      "execution_count": null,
      "outputs": []
    },
    {
      "cell_type": "code",
      "metadata": {
        "id": "DCMIx0n9sFso",
        "colab_type": "code",
        "colab": {}
      },
      "source": [
        "cv2.imwrite(r'/content/res.png', img)"
      ],
      "execution_count": null,
      "outputs": []
    }
  ]
}