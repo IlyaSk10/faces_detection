{
  "nbformat": 4,
  "nbformat_minor": 0,
  "metadata": {
    "colab": {
      "name": "faces_detection.ipynb",
      "provenance": [],
      "collapsed_sections": []
    },
    "kernelspec": {
      "name": "python3",
      "display_name": "Python 3"
    },
    "accelerator": "GPU"
  },
  "cells": [
    {
      "cell_type": "code",
      "metadata": {
        "id": "xhKxa3XNPvNe",
        "colab_type": "code",
        "colab": {
          "base_uri": "https://localhost:8080/",
          "height": 170
        },
        "outputId": "09be1b03-7fc7-4390-812d-0c82b5331b9d"
      },
      "source": [
        "import gdown\n",
        "import os\n",
        "\n",
        "name='facesdetection'\n",
        "os.mkdir('/content/'+name)\n",
        "os.chdir('/content/'+name)\n",
        "!gdown 'https://drive.google.com/uc?id=1NiTKjPdq46YaODqKk1WL0oGMig1EtrPK'\n",
        "!tar -zxvf faces.tar.gz"
      ],
      "execution_count": 1,
      "outputs": [
        {
          "output_type": "stream",
          "text": [
            "Downloading...\n",
            "From: https://drive.google.com/uc?id=1NiTKjPdq46YaODqKk1WL0oGMig1EtrPK\n",
            "To: /content/facesdetection/faces.tar.gz\n",
            "27.5MB [00:00, 53.5MB/s]\n",
            "face.test.tar.gz\n",
            "face.train.tar.gz\n",
            "svm.test.normgrey\n",
            "svm.train.normgrey\n",
            "README\n"
          ],
          "name": "stdout"
        }
      ]
    },
    {
      "cell_type": "code",
      "metadata": {
        "id": "B7got2ZYrz7r",
        "colab_type": "code",
        "colab": {}
      },
      "source": [
        "import tarfile\n",
        "\n",
        "source_path_train='/content/'+name+'/'\n",
        "names=['face.test.tar.gz','face.train.tar.gz']\n",
        "\n",
        "for name in names:\n",
        "  with tarfile.open(source_path_train+name) as tar:\n",
        "    tar.extractall()"
      ],
      "execution_count": 2,
      "outputs": []
    },
    {
      "cell_type": "code",
      "metadata": {
        "id": "VyL4j-XlkEJf",
        "colab_type": "code",
        "colab": {}
      },
      "source": [
        "import shutil\n",
        "\n",
        "# test\n",
        "#test_name='test'\n",
        "#os.mkdir('/content/'+name+'/'+test_name)\n",
        "#source_path_test='/content/'+name+'/'+'face.test.tar.gz'\n",
        "#dest_path_test='/content/'+name+'/'+test_name\n",
        "#shutil.move(source_path_test, dest_path_test)\n",
        "#os.chdir(dest_path_test)\n",
        "#!unzip 'face.test.tar.gz'\n",
        "# train\n",
        "#train_name='train'\n",
        "#os.mkdir('/content/'+name+'/'+train_name)\n",
        "#source_path_train='/content/'+name+'/'+'face.train.tar.gz'\n",
        "#dest_path_train='/content/'+name+'/'+train_name\n",
        "#shutil.move(source_path_train, dest_path_train)\n",
        "#os.chdir(dest_path_train)\n",
        "#!unzip 'face.train.tar.gz'"
      ],
      "execution_count": 3,
      "outputs": []
    },
    {
      "cell_type": "code",
      "metadata": {
        "id": "AHJyi0V9vzu0",
        "colab_type": "code",
        "colab": {
          "base_uri": "https://localhost:8080/",
          "height": 256
        },
        "outputId": "cfb21169-f463-4101-c463-e3a657a93ac4"
      },
      "source": [
        "import matplotlib.pyplot as plt\n",
        "\n",
        "train_name='train'\n",
        "name='facesdetection'\n",
        "path='/content/'+name+'/'+train_name+'/'+'face'+'/'\n",
        "path_nonface='/content/'+name+'/'+train_name+'/'+'non-face'+'/'\n",
        "\n",
        "face_train_names=sorted(os.listdir(path))\n",
        "non_face_train_names=sorted(os.listdir(path_nonface))\n",
        "\n",
        "_, axs = plt.subplots(1, 5, figsize=(20, 20))\n",
        "axs = axs.flatten()\n",
        "\n",
        "import cv2\n",
        "for name,ax in zip(face_train_names[:5],axs):\n",
        "  ax.imshow(cv2.imread(path+name, cv2.IMREAD_GRAYSCALE), cmap='gray')\n",
        "  ax.set_title(name)\n",
        "plt.show()"
      ],
      "execution_count": 4,
      "outputs": [
        {
          "output_type": "display_data",
          "data": {
            "image/png": "[encoded data removed]",
            "text/plain": [
              "<Figure size 1440x1440 with 5 Axes>"
            ]
          },
          "metadata": {
            "tags": [],
            "needs_background": "light"
          }
        }
      ]
    },
    {
      "cell_type": "code",
      "metadata": {
        "id": "U_TacqgFAuFN",
        "colab_type": "code",
        "colab": {}
      },
      "source": [
        "import numpy as np\n",
        "from sklearn.preprocessing import StandardScaler\n",
        "\n",
        "def standartization(names,path):\n",
        "  A=np.zeros((len(names),19,19))\n",
        "  #train_name='train'\n",
        "  #name='facesdetection'\n",
        "  #path='/content/'+name+'/'+train_name+'/'+'face'+'/'\n",
        "  for i,name in enumerate(names):\n",
        "    data=cv2.imread(path+name, cv2.IMREAD_GRAYSCALE)\n",
        "    standardized_data = StandardScaler().fit_transform(data)\n",
        "    A[i,:,:]=standardized_data\n",
        "  return A"
      ],
      "execution_count": 5,
      "outputs": []
    },
    {
      "cell_type": "code",
      "metadata": {
        "id": "FMvE_betxXyc",
        "colab_type": "code",
        "colab": {}
      },
      "source": [
        "len(non_face_train_names)\n",
        "N=500"
      ],
      "execution_count": 6,
      "outputs": []
    },
    {
      "cell_type": "code",
      "metadata": {
        "id": "4PEJv7luBsiD",
        "colab_type": "code",
        "colab": {}
      },
      "source": [
        "path_face=path\n",
        "path_nonface='/content/facesdetection/'+train_name+'/'+'non-face'+'/'\n",
        "\n",
        "faces_stand=standartization(face_train_names[:N],path=path_face) # с лицами\n",
        "non_faces_stand=standartization(non_face_train_names[:N],path=path_nonface) # без лиц"
      ],
      "execution_count": 7,
      "outputs": []
    },
    {
      "cell_type": "code",
      "metadata": {
        "id": "UeiYPNZ0Ewds",
        "colab_type": "code",
        "colab": {
          "base_uri": "https://localhost:8080/",
          "height": 256
        },
        "outputId": "bdfafcec-badb-442f-91e9-ccecbd08d525"
      },
      "source": [
        "_, axs = plt.subplots(1, 5, figsize=(20, 20))\n",
        "axs = axs.flatten()\n",
        "\n",
        "for image,ax,name in zip(faces_stand[:5],axs,face_train_names[:5]):\n",
        "  ax.imshow(image,cmap='gray') \n",
        "  ax.set_title(name)\n",
        "plt.show()"
      ],
      "execution_count": 8,
      "outputs": [
        {
          "output_type": "display_data",
          "data": {
            "image/png": "[encoded data removed]",
            "text/plain": [
              "<Figure size 1440x1440 with 5 Axes>"
            ]
          },
          "metadata": {
            "tags": [],
            "needs_background": "light"
          }
        }
      ]
    },
    {
      "cell_type": "code",
      "metadata": {
        "id": "ErMw3fvSJGTO",
        "colab_type": "code",
        "colab": {}
      },
      "source": [
        "import cv2  \n",
        "import numpy as np\n",
        "from google.colab.patches import cv2_imshow\n",
        "\n",
        "def integral_image(faces,N):\n",
        "  B=np.zeros((N,20,20))\n",
        "  for i,image in enumerate(faces):\n",
        "    #image = cv2.imread(path+name, cv2.IMREAD_GRAYSCALE)\n",
        "    rows,cols=image.shape \n",
        "    sum = np.zeros((rows,cols),np.int32)  \n",
        "    imageIntegral = cv2.integral(image, sum,-1)  \n",
        "    #ax.imshow(imageIntegral)\n",
        "    B[i,:,:]= imageIntegral\n",
        "  return B"
      ],
      "execution_count": 9,
      "outputs": []
    },
    {
      "cell_type": "code",
      "metadata": {
        "id": "gEPiagTqZ1Z_",
        "colab_type": "code",
        "colab": {}
      },
      "source": [
        "integ_image=integral_image(faces_stand,N)\n",
        "non_integ_image=integral_image(non_faces_stand,N)"
      ],
      "execution_count": 10,
      "outputs": []
    },
    {
      "cell_type": "code",
      "metadata": {
        "id": "yyJiZ20cenSu",
        "colab_type": "code",
        "colab": {
          "base_uri": "https://localhost:8080/",
          "height": 256
        },
        "outputId": "52f6154e-32ba-47a2-b189-70a29f30bdc2"
      },
      "source": [
        "_, axs = plt.subplots(1, 5, figsize=(20, 20))\n",
        "axs = axs.flatten()\n",
        "\n",
        "for image,ax,name in zip(integ_image[:5],axs,face_train_names[:5]):\n",
        "  ax.imshow(image,cmap='gray') \n",
        "  ax.set_title(name)\n",
        "plt.show()"
      ],
      "execution_count": 11,
      "outputs": [
        {
          "output_type": "display_data",
          "data": {
            "image/png": "[encoded data removed]",
            "text/plain": [
              "<Figure size 1440x1440 with 5 Axes>"
            ]
          },
          "metadata": {
            "tags": [],
            "needs_background": "light"
          }
        }
      ]
    },
    {
      "cell_type": "code",
      "metadata": {
        "id": "v3AEpcqMi53j",
        "colab_type": "code",
        "colab": {}
      },
      "source": [
        "#train\n",
        "os.mkdir('/content/faces_train')\n",
        "os.mkdir('/content/faces_train/face')\n",
        "#train non-face\n",
        "os.mkdir('/content/faces_train/non_face')\n",
        "# сохранить как .bmp\n",
        "def save_bmp(faces,path):\n",
        "  for i,image in enumerate(faces):\n",
        "    cv2.imwrite(path+'/'+'pict{}.bmp'.format(i),image)\n",
        "  print('сохранено в '+path)"
      ],
      "execution_count": 12,
      "outputs": []
    },
    {
      "cell_type": "code",
      "metadata": {
        "id": "hXMbb-iVkdeT",
        "colab_type": "code",
        "colab": {
          "base_uri": "https://localhost:8080/",
          "height": 51
        },
        "outputId": "555b7504-7731-42c3-f75b-885546707aff"
      },
      "source": [
        "path='/content/faces_train/face'\n",
        "save_bmp(integ_image,path)\n",
        "path='/content/faces_train/non_face'\n",
        "save_bmp(non_integ_image,path)"
      ],
      "execution_count": 13,
      "outputs": [
        {
          "output_type": "stream",
          "text": [
            "сохранено в /content/faces_train/face\n",
            "сохранено в /content/faces_train/non_face\n"
          ],
          "name": "stdout"
        }
      ]
    },
    {
      "cell_type": "code",
      "metadata": {
        "id": "co58gUPLlG_I",
        "colab_type": "code",
        "colab": {
          "base_uri": "https://localhost:8080/",
          "height": 256
        },
        "outputId": "d3206a2e-dcad-4ea1-ddb8-f6618bb13c16"
      },
      "source": [
        "_, axs = plt.subplots(1, 5, figsize=(20, 20))\n",
        "axs = axs.flatten()\n",
        "path='/content/faces_train/face'\n",
        "for i,ax,name in zip(range(5),axs,face_train_names[:5]):\n",
        "  ax.imshow(cv2.imread(path+'/'+'pict{}.bmp'.format(i))) \n",
        "  ax.set_title(name)\n",
        "plt.show()\n"
      ],
      "execution_count": 14,
      "outputs": [
        {
          "output_type": "display_data",
          "data": {
            "image/png": "[encoded data removed]",
            "text/plain": [
              "<Figure size 1440x1440 with 5 Axes>"
            ]
          },
          "metadata": {
            "tags": [],
            "needs_background": "light"
          }
        }
      ]
    },
    {
      "cell_type": "code",
      "metadata": {
        "id": "im9qfncDPEYc",
        "colab_type": "code",
        "colab": {}
      },
      "source": [
        "attribute=' 1  0 0 14 14'\n",
        "string_face='\\n'.join(['face'+'/'+pict+attribute for pict in sorted(os.listdir('/content/faces_train/face'))])\n",
        "string_non_face='\\n'.join(['non_face'+'/'+path for path in sorted(os.listdir('/content/faces_train/non_face'))])"
      ],
      "execution_count": 15,
      "outputs": []
    },
    {
      "cell_type": "code",
      "metadata": {
        "id": "flKbbLKzQTV3",
        "colab_type": "code",
        "colab": {}
      },
      "source": [
        "with open('/content/faces_train/face.txt','w') as f:\n",
        "  f.write(string_face)\n",
        "\n",
        "f.close()\n",
        "\n",
        "with open('/content/faces_train/non_face.txt','w') as f:\n",
        "  f.write(string_non_face)\n",
        "\n",
        "f.close()"
      ],
      "execution_count": 16,
      "outputs": []
    },
    {
      "cell_type": "code",
      "metadata": {
        "id": "-K_rKtTMN4bU",
        "colab_type": "code",
        "colab": {
          "base_uri": "https://localhost:8080/",
          "height": 340
        },
        "outputId": "6de6a2db-91ad-48d1-d830-ea360bbc6c0d"
      },
      "source": [
        "%cd /content/faces_train/\n",
        "!opencv_createsamples -info /content/faces_train/face.txt -vec samples.vec -num 500 -w 18 -h 18"
      ],
      "execution_count": 17,
      "outputs": [
        {
          "output_type": "stream",
          "text": [
            "/content/faces_train\n",
            "Info file name: /content/faces_train/face.txt\n",
            "Img file name: (NULL)\n",
            "Vec file name: samples.vec\n",
            "BG  file name: (NULL)\n",
            "Num: 500\n",
            "BG color: 0\n",
            "BG threshold: 80\n",
            "Invert: FALSE\n",
            "Max intensity deviation: 40\n",
            "Max x angle: 1.1\n",
            "Max y angle: 1.1\n",
            "Max z angle: 0.5\n",
            "Show samples: FALSE\n",
            "Width: 18\n",
            "Height: 18\n",
            "Max Scale: -1\n",
            "Create training samples from images collection...\n",
            "Done. Created 500 samples\n"
          ],
          "name": "stdout"
        }
      ]
    },
    {
      "cell_type": "code",
      "metadata": {
        "id": "ClizQMRdXScV",
        "colab_type": "code",
        "colab": {
          "base_uri": "https://localhost:8080/",
          "height": 34
        },
        "outputId": "6f331b49-c3e9-443b-e995-429f640d48c7"
      },
      "source": [
        "!ls"
      ],
      "execution_count": 18,
      "outputs": [
        {
          "output_type": "stream",
          "text": [
            "face  face.txt\tnon_face  non_face.txt\tsamples.vec\n"
          ],
          "name": "stdout"
        }
      ]
    },
    {
      "cell_type": "code",
      "metadata": {
        "id": "ldtcKhdtz9Yw",
        "colab_type": "code",
        "colab": {
          "base_uri": "https://localhost:8080/",
          "height": 1000
        },
        "outputId": "b325075d-03f8-4ade-eb4f-1c5fd5c1fa37"
      },
      "source": [
        "!opencv_traincascade -data /content/faces_train/ -vec samples.vec -bg non_face.txt -numStages 16 -minhitrate 0.999 -maxDepth 1 -maxWeakCount 10 -maxFalseAlarmRate 0.4 -numPos 400 -numNeg 500 -w 18 -h 18"
      ],
      "execution_count": 19,
      "outputs": [
        {
          "output_type": "stream",
          "text": [
            "PARAMETERS:\n",
            "cascadeDirName: /content/faces_train/\n",
            "vecFileName: samples.vec\n",
            "bgFileName: non_face.txt\n",
            "numPos: 400\n",
            "numNeg: 500\n",
            "numStages: 16\n",
            "precalcValBufSize[Mb] : 1024\n",
            "precalcIdxBufSize[Mb] : 1024\n",
            "acceptanceRatioBreakValue : -1\n",
            "stageType: BOOST\n",
            "featureType: HAAR\n",
            "sampleWidth: 18\n",
            "sampleHeight: 18\n",
            "boostType: GAB\n",
            "minHitRate: 0.995\n",
            "maxFalseAlarmRate: 0.4\n",
            "weightTrimRate: 0.95\n",
            "maxDepth: 1\n",
            "maxWeakCount: 10\n",
            "mode: BASIC\n",
            "Number of unique features given windowSize [18,18] : 51705\n",
            "\n",
            "===== TRAINING 0-stage =====\n",
            "<BEGIN\n",
            "POS count : consumed   400 : 400\n",
            "NEG count : acceptanceRatio    500 : 1\n",
            "Precalculation time: 2\n",
            "+----+---------+---------+\n",
            "|  N |    HR   |    FA   |\n",
            "+----+---------+---------+\n",
            "|   1|        1|        1|\n",
            "+----+---------+---------+\n",
            "|   2|        1|        1|\n",
            "+----+---------+---------+\n",
            "|   3|        1|     0.32|\n",
            "+----+---------+---------+\n",
            "END>\n",
            "Training until now has taken 0 days 0 hours 0 minutes 5 seconds.\n",
            "\n",
            "===== TRAINING 1-stage =====\n",
            "<BEGIN\n",
            "POS count : consumed   400 : 400\n",
            "NEG count : acceptanceRatio    500 : 0.737463\n",
            "Precalculation time: 1\n",
            "+----+---------+---------+\n",
            "|  N |    HR   |    FA   |\n",
            "+----+---------+---------+\n",
            "|   1|        1|        1|\n",
            "+----+---------+---------+\n",
            "|   2|        1|     0.52|\n",
            "+----+---------+---------+\n",
            "|   3|        1|     0.52|\n",
            "+----+---------+---------+\n",
            "|   4|   0.9975|    0.404|\n",
            "+----+---------+---------+\n",
            "|   5|   0.9975|    0.294|\n",
            "+----+---------+---------+\n",
            "END>\n",
            "Training until now has taken 0 days 0 hours 0 minutes 12 seconds.\n",
            "\n",
            "===== TRAINING 2-stage =====\n",
            "<BEGIN\n",
            "POS count : consumed   400 : 401\n",
            "NEG count : acceptanceRatio    500 : 0.256542\n",
            "Precalculation time: 2\n",
            "+----+---------+---------+\n",
            "|  N |    HR   |    FA   |\n",
            "+----+---------+---------+\n",
            "|   1|        1|        1|\n",
            "+----+---------+---------+\n",
            "|   2|        1|        1|\n",
            "+----+---------+---------+\n",
            "|   3|        1|    0.952|\n",
            "+----+---------+---------+\n",
            "|   4|        1|    0.952|\n",
            "+----+---------+---------+\n",
            "|   5|        1|    0.888|\n",
            "+----+---------+---------+\n",
            "|   6|        1|    0.796|\n",
            "+----+---------+---------+\n",
            "|   7|        1|    0.804|\n",
            "+----+---------+---------+\n",
            "|   8|        1|    0.712|\n",
            "+----+---------+---------+\n",
            "|   9|        1|    0.712|\n",
            "+----+---------+---------+\n",
            "|  10|        1|    0.712|\n",
            "+----+---------+---------+\n",
            "END>\n",
            "Training until now has taken 0 days 0 hours 0 minutes 23 seconds.\n",
            "\n",
            "===== TRAINING 3-stage =====\n",
            "<BEGIN\n",
            "POS count : consumed   400 : 401\n",
            "NEG count : acceptanceRatio    500 : 0.185391\n",
            "Precalculation time: 1\n",
            "+----+---------+---------+\n",
            "|  N |    HR   |    FA   |\n",
            "+----+---------+---------+\n",
            "|   1|        1|        1|\n",
            "+----+---------+---------+\n",
            "|   2|        1|        1|\n",
            "+----+---------+---------+\n",
            "|   3|        1|        1|\n",
            "+----+---------+---------+\n",
            "|   4|        1|    0.978|\n",
            "+----+---------+---------+\n",
            "|   5|        1|    0.978|\n",
            "+----+---------+---------+\n",
            "|   6|   0.9975|     0.91|\n",
            "+----+---------+---------+\n",
            "|   7|   0.9975|    0.968|\n",
            "+----+---------+---------+\n",
            "|   8|   0.9975|    0.888|\n",
            "+----+---------+---------+\n",
            "|   9|   0.9975|    0.922|\n",
            "+----+---------+---------+\n",
            "|  10|   0.9975|    0.834|\n",
            "+----+---------+---------+\n",
            "END>\n",
            "Training until now has taken 0 days 0 hours 0 minutes 33 seconds.\n",
            "\n",
            "===== TRAINING 4-stage =====\n",
            "<BEGIN\n",
            "POS count : consumed   400 : 403\n",
            "NEG count : acceptanceRatio    500 : 0.154321\n",
            "Precalculation time: 2\n",
            "+----+---------+---------+\n",
            "|  N |    HR   |    FA   |\n",
            "+----+---------+---------+\n",
            "|   1|        1|        1|\n",
            "+----+---------+---------+\n",
            "|   2|        1|        1|\n",
            "+----+---------+---------+\n",
            "|   3|        1|        1|\n",
            "+----+---------+---------+\n",
            "|   4|        1|    0.986|\n",
            "+----+---------+---------+\n",
            "|   5|        1|    0.986|\n",
            "+----+---------+---------+\n",
            "|   6|        1|    0.972|\n",
            "+----+---------+---------+\n",
            "|   7|        1|    0.972|\n",
            "+----+---------+---------+\n",
            "|   8|        1|    0.882|\n",
            "+----+---------+---------+\n",
            "|   9|        1|     0.92|\n",
            "+----+---------+---------+\n",
            "|  10|        1|    0.868|\n",
            "+----+---------+---------+\n",
            "END>\n",
            "Training until now has taken 0 days 0 hours 0 minutes 42 seconds.\n",
            "\n",
            "===== TRAINING 5-stage =====\n",
            "<BEGIN\n",
            "POS count : consumed   400 : 403\n",
            "NEG count : acceptanceRatio    500 : 0.171174\n",
            "Precalculation time: 2\n",
            "+----+---------+---------+\n",
            "|  N |    HR   |    FA   |\n",
            "+----+---------+---------+\n",
            "|   1|        1|        1|\n",
            "+----+---------+---------+\n",
            "|   2|        1|        1|\n",
            "+----+---------+---------+\n",
            "|   3|        1|    0.886|\n",
            "+----+---------+---------+\n",
            "|   4|        1|    0.886|\n",
            "+----+---------+---------+\n",
            "|   5|        1|    0.878|\n",
            "+----+---------+---------+\n",
            "|   6|        1|    0.888|\n",
            "+----+---------+---------+\n",
            "|   7|        1|    0.844|\n",
            "+----+---------+---------+\n",
            "|   8|        1|    0.818|\n",
            "+----+---------+---------+\n",
            "|   9|        1|     0.86|\n",
            "+----+---------+---------+\n",
            "|  10|        1|    0.864|\n",
            "+----+---------+---------+\n",
            "END>\n",
            "Training until now has taken 0 days 0 hours 0 minutes 51 seconds.\n",
            "\n",
            "===== TRAINING 6-stage =====\n",
            "<BEGIN\n",
            "POS count : consumed   400 : 403\n",
            "NEG count : acceptanceRatio    500 : 0.146714\n",
            "Precalculation time: 1\n",
            "+----+---------+---------+\n",
            "|  N |    HR   |    FA   |\n",
            "+----+---------+---------+\n",
            "|   1|        1|        1|\n",
            "+----+---------+---------+\n",
            "|   2|        1|        1|\n",
            "+----+---------+---------+\n",
            "|   3|        1|        1|\n",
            "+----+---------+---------+\n",
            "|   4|        1|        1|\n",
            "+----+---------+---------+\n",
            "|   5|        1|    0.958|\n",
            "+----+---------+---------+\n",
            "|   6|        1|    0.958|\n",
            "+----+---------+---------+\n",
            "|   7|        1|    0.958|\n",
            "+----+---------+---------+\n",
            "|   8|        1|    0.904|\n",
            "+----+---------+---------+\n",
            "|   9|        1|    0.904|\n",
            "+----+---------+---------+\n",
            "|  10|        1|    0.918|\n",
            "+----+---------+---------+\n",
            "END>\n",
            "Training until now has taken 0 days 0 hours 1 minutes 0 seconds.\n",
            "\n",
            "===== TRAINING 7-stage =====\n",
            "<BEGIN\n",
            "POS count : consumed   400 : 403\n",
            "NEG count : acceptanceRatio    500 : 0.143266\n",
            "Precalculation time: 1\n",
            "+----+---------+---------+\n",
            "|  N |    HR   |    FA   |\n",
            "+----+---------+---------+\n",
            "|   1|        1|        1|\n",
            "+----+---------+---------+\n",
            "|   2|        1|        1|\n",
            "+----+---------+---------+\n",
            "|   3|        1|        1|\n",
            "+----+---------+---------+\n",
            "|   4|        1|        1|\n",
            "+----+---------+---------+\n",
            "|   5|        1|    0.996|\n",
            "+----+---------+---------+\n",
            "|   6|        1|    0.996|\n",
            "+----+---------+---------+\n",
            "|   7|        1|    0.976|\n",
            "+----+---------+---------+\n",
            "|   8|        1|    0.976|\n",
            "+----+---------+---------+\n",
            "|   9|        1|    0.968|\n",
            "+----+---------+---------+\n",
            "|  10|        1|    0.978|\n",
            "+----+---------+---------+\n",
            "END>\n",
            "Training until now has taken 0 days 0 hours 1 minutes 8 seconds.\n",
            "\n",
            "===== TRAINING 8-stage =====\n",
            "<BEGIN\n",
            "POS count : consumed   400 : 403\n",
            "NEG count : acceptanceRatio    500 : 0.161186\n",
            "Precalculation time: 1\n",
            "+----+---------+---------+\n",
            "|  N |    HR   |    FA   |\n",
            "+----+---------+---------+\n",
            "|   1|        1|        1|\n",
            "+----+---------+---------+\n",
            "|   2|        1|        1|\n",
            "+----+---------+---------+\n",
            "|   3|        1|        1|\n",
            "+----+---------+---------+\n",
            "|   4|        1|    0.988|\n",
            "+----+---------+---------+\n",
            "|   5|        1|    0.988|\n",
            "+----+---------+---------+\n",
            "|   6|        1|     0.95|\n",
            "+----+---------+---------+\n",
            "|   7|        1|    0.914|\n",
            "+----+---------+---------+\n",
            "|   8|        1|    0.914|\n",
            "+----+---------+---------+\n",
            "|   9|        1|    0.926|\n",
            "+----+---------+---------+\n",
            "|  10|        1|    0.902|\n",
            "+----+---------+---------+\n",
            "END>\n",
            "Training until now has taken 0 days 0 hours 1 minutes 17 seconds.\n",
            "\n",
            "===== TRAINING 9-stage =====\n",
            "<BEGIN\n",
            "POS count : consumed   400 : 403\n",
            "NEG count : acceptanceRatio    500 : 0.143554\n",
            "Precalculation time: 1\n",
            "+----+---------+---------+\n",
            "|  N |    HR   |    FA   |\n",
            "+----+---------+---------+\n",
            "|   1|        1|        1|\n",
            "+----+---------+---------+\n",
            "|   2|        1|        1|\n",
            "+----+---------+---------+\n",
            "|   3|        1|        1|\n",
            "+----+---------+---------+\n",
            "|   4|        1|        1|\n",
            "+----+---------+---------+\n",
            "|   5|        1|        1|\n",
            "+----+---------+---------+\n",
            "|   6|        1|        1|\n",
            "+----+---------+---------+\n",
            "END>\n",
            "Training until now has taken 0 days 0 hours 1 minutes 23 seconds.\n",
            "\n",
            "===== TRAINING 10-stage =====\n",
            "<BEGIN\n",
            "POS count : consumed   400 : 403\n",
            "NEG count : acceptanceRatio    500 : 0.145985\n",
            "Precalculation time: 1\n",
            "+----+---------+---------+\n",
            "|  N |    HR   |    FA   |\n",
            "+----+---------+---------+\n",
            "|   1|        1|        1|\n",
            "+----+---------+---------+\n",
            "|   2|        1|        1|\n",
            "+----+---------+---------+\n",
            "|   3|        1|        1|\n",
            "+----+---------+---------+\n",
            "|   4|        1|        1|\n",
            "+----+---------+---------+\n",
            "|   5|        1|    0.998|\n",
            "+----+---------+---------+\n",
            "|   6|        1|    0.998|\n",
            "+----+---------+---------+\n",
            "|   7|        1|    0.986|\n",
            "+----+---------+---------+\n",
            "|   8|        1|    0.996|\n",
            "+----+---------+---------+\n",
            "|   9|        1|    0.984|\n",
            "+----+---------+---------+\n",
            "|  10|        1|    0.988|\n",
            "+----+---------+---------+\n",
            "END>\n",
            "Training until now has taken 0 days 0 hours 1 minutes 31 seconds.\n",
            "\n",
            "===== TRAINING 11-stage =====\n",
            "<BEGIN\n",
            "POS count : consumed   400 : 403\n",
            "NEG count : acceptanceRatio    500 : 0.143554\n",
            "Precalculation time: 1\n",
            "+----+---------+---------+\n",
            "|  N |    HR   |    FA   |\n",
            "+----+---------+---------+\n",
            "|   1|        1|        1|\n",
            "+----+---------+---------+\n",
            "|   2|        1|        1|\n",
            "+----+---------+---------+\n",
            "|   3|        1|        1|\n",
            "+----+---------+---------+\n",
            "|   4|        1|        1|\n",
            "+----+---------+---------+\n",
            "|   5|        1|        1|\n",
            "+----+---------+---------+\n",
            "|   6|        1|        1|\n",
            "+----+---------+---------+\n",
            "END>\n",
            "Training until now has taken 0 days 0 hours 1 minutes 37 seconds.\n",
            "\n",
            "===== TRAINING 12-stage =====\n",
            "<BEGIN\n",
            "POS count : consumed   400 : 403\n",
            "NEG count : acceptanceRatio    500 : 0.145307\n",
            "Precalculation time: 1\n",
            "+----+---------+---------+\n",
            "|  N |    HR   |    FA   |\n",
            "+----+---------+---------+\n",
            "|   1|        1|        1|\n",
            "+----+---------+---------+\n",
            "|   2|        1|        1|\n",
            "+----+---------+---------+\n",
            "|   3|        1|        1|\n",
            "+----+---------+---------+\n",
            "|   4|        1|        1|\n",
            "+----+---------+---------+\n",
            "|   5|        1|        1|\n",
            "+----+---------+---------+\n",
            "|   6|        1|        1|\n",
            "+----+---------+---------+\n",
            "END>\n",
            "Training until now has taken 0 days 0 hours 1 minutes 43 seconds.\n",
            "\n",
            "===== TRAINING 13-stage =====\n",
            "<BEGIN\n",
            "POS count : consumed   400 : 403\n",
            "NEG count : acceptanceRatio    500 : 0.145307\n",
            "Precalculation time: 1\n",
            "+----+---------+---------+\n",
            "|  N |    HR   |    FA   |\n",
            "+----+---------+---------+\n",
            "|   1|        1|        1|\n",
            "+----+---------+---------+\n",
            "|   2|        1|        1|\n",
            "+----+---------+---------+\n",
            "|   3|        1|        1|\n",
            "+----+---------+---------+\n",
            "|   4|        1|        1|\n",
            "+----+---------+---------+\n",
            "|   5|        1|    0.998|\n",
            "+----+---------+---------+\n",
            "|   6|        1|    0.998|\n",
            "+----+---------+---------+\n",
            "|   7|        1|    0.992|\n",
            "+----+---------+---------+\n",
            "|   8|        1|    0.994|\n",
            "+----+---------+---------+\n",
            "|   9|        1|    0.992|\n",
            "+----+---------+---------+\n",
            "|  10|        1|    0.994|\n",
            "+----+---------+---------+\n",
            "END>\n",
            "Training until now has taken 0 days 0 hours 1 minutes 51 seconds.\n",
            "\n",
            "===== TRAINING 14-stage =====\n",
            "<BEGIN\n",
            "POS count : consumed   400 : 403\n",
            "NEG count : acceptanceRatio    500 : 0.143431\n",
            "Precalculation time: 1\n",
            "+----+---------+---------+\n",
            "|  N |    HR   |    FA   |\n",
            "+----+---------+---------+\n",
            "|   1|        1|        1|\n",
            "+----+---------+---------+\n",
            "|   2|        1|        1|\n",
            "+----+---------+---------+\n",
            "|   3|        1|        1|\n",
            "+----+---------+---------+\n",
            "|   4|        1|        1|\n",
            "+----+---------+---------+\n",
            "|   5|        1|        1|\n",
            "+----+---------+---------+\n",
            "|   6|        1|        1|\n",
            "+----+---------+---------+\n",
            "END>\n",
            "Training until now has taken 0 days 0 hours 1 minutes 58 seconds.\n",
            "\n",
            "===== TRAINING 15-stage =====\n",
            "<BEGIN\n",
            "POS count : consumed   400 : 403\n",
            "NEG count : acceptanceRatio    500 : 0.143143\n",
            "Precalculation time: 1\n",
            "+----+---------+---------+\n",
            "|  N |    HR   |    FA   |\n",
            "+----+---------+---------+\n",
            "|   1|        1|        1|\n",
            "+----+---------+---------+\n",
            "|   2|        1|        1|\n",
            "+----+---------+---------+\n",
            "|   3|        1|        1|\n",
            "+----+---------+---------+\n",
            "|   4|        1|        1|\n",
            "+----+---------+---------+\n",
            "|   5|        1|        1|\n",
            "+----+---------+---------+\n",
            "|   6|        1|        1|\n",
            "+----+---------+---------+\n",
            "|   7|        1|        1|\n",
            "+----+---------+---------+\n",
            "|   8|        1|    0.996|\n",
            "+----+---------+---------+\n",
            "|   9|        1|        1|\n",
            "+----+---------+---------+\n",
            "|  10|        1|    0.996|\n",
            "+----+---------+---------+\n",
            "END>\n",
            "Training until now has taken 0 days 0 hours 2 minutes 6 seconds.\n"
          ],
          "name": "stdout"
        }
      ]
    },
    {
      "cell_type": "code",
      "metadata": {
        "id": "HtA18BhA6M-5",
        "colab_type": "code",
        "colab": {}
      },
      "source": [
        ""
      ],
      "execution_count": 19,
      "outputs": []
    },
    {
      "cell_type": "code",
      "metadata": {
        "id": "pHETBerJlb3B",
        "colab_type": "code",
        "colab": {}
      },
      "source": [
        "import cv2\n",
        "  \n",
        "url='http://i.dailymail.co.uk/i/pix/2015/11/10/23/2E503F1500000578-3312647-image-a-39_1447197228350.jpg'\n",
        "  \n",
        "# читаем фото из интернета\n",
        "import urllib.request\n",
        "urllib.request.urlretrieve(url, '/content/1.jpg')\n",
        "img=cv2.imread('/content/sachin.jpg')"
      ],
      "execution_count": 20,
      "outputs": []
    },
    {
      "cell_type": "code",
      "metadata": {
        "id": "LxwfoNvAqN-C",
        "colab_type": "code",
        "colab": {}
      },
      "source": [
        "face_cascade = cv2.CascadeClassifier(r'/usr/local/lib/python3.6/dist-packages/cv2/data/haarcascade_frontalface_default.xml')\n",
        "eye_cascade = cv2.CascadeClassifier(r'/usr/local/lib/python3.6/dist-packages/cv2/data/haarcascade_eye.xml')\n",
        "gray = cv2.cvtColor(img, cv2.COLOR_BGR2GRAY)\n",
        "faces = face_cascade.detectMultiScale(gray, 1.3, 5)\n",
        "for (x,y,w,h) in faces:\n",
        "    img = cv2.rectangle(img,(x,y),(x+w,y+h),(255,0,0),2)\n",
        "    roi_gray = gray[y:y+h, x:x+w]\n",
        "    roi_color = img[y:y+h, x:x+w]\n",
        "    eyes = eye_cascade.detectMultiScale(roi_gray)\n",
        "    for (ex,ey,ew,eh) in eyes:\n",
        "        cv2.rectangle(roi_color,(ex,ey),(ex+ew,ey+eh),(0,255,0),2)"
      ],
      "execution_count": null,
      "outputs": []
    },
    {
      "cell_type": "code",
      "metadata": {
        "id": "DCMIx0n9sFso",
        "colab_type": "code",
        "colab": {}
      },
      "source": [
        "#cv2.imwrite(r'/content/res.png', img)"
      ],
      "execution_count": null,
      "outputs": []
    },
    {
      "cell_type": "code",
      "metadata": {
        "id": "KIy1fMoS6OJt",
        "colab_type": "code",
        "colab": {}
      },
      "source": [
        "#https://opencv-python-tutroals.readthedocs.io/en/latest/py_tutorials/py_objdetect/py_face_detection/py_face_detection.html"
      ],
      "execution_count": null,
      "outputs": []
    },
    {
      "cell_type": "code",
      "metadata": {
        "id": "FhXCwCbb6P0k",
        "colab_type": "code",
        "colab": {}
      },
      "source": [
        "#https://python-scripts.com/question/6503"
      ],
      "execution_count": null,
      "outputs": []
    }
  ]
}